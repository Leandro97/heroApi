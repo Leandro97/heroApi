{
 "cells": [
  {
   "cell_type": "code",
   "execution_count": 1,
   "metadata": {},
   "outputs": [],
   "source": [
    "import requests \n",
    "import csv\n",
    "import os.path\n",
    "import numpy as np\n",
    "import pandas as pd\n",
    "import time\n",
    "from os import path\n",
    "from sklearn.preprocessing import LabelEncoder\n",
    "from sklearn.model_selection import train_test_split\n",
    "from sklearn.model_selection import cross_val_score\n",
    "from sklearn.metrics import confusion_matrix\n",
    "\n",
    "accessToken = \"3360286107350243\" \n",
    "\n",
    "def main():\n",
    "    with open('heroes.csv', 'w', newline='') as csvfile:\n",
    "        spamwriter = csv.writer(csvfile, delimiter = ',')\n",
    "        spamwriter.writerow([\"name\", \"gender\", \"eyeColor\", \"hairType\", \n",
    "                             \"intelligence\", \"strength\", \"speed\", \"power\", \"combat\", \"role\"])\n",
    "\n",
    "        for charId in range(1,732):\n",
    "            URL         = \"https://www.superheroapi.com/api/{}/{}\".format(accessToken, charId)\n",
    "            response    = requests.get(url = URL).json() \n",
    "\n",
    "            spamwriter.writerow([response[\"name\"], response[\"appearance\"][\"gender\"],\n",
    "                                 response[\"appearance\"][\"eye-color\"], response[\"appearance\"][\"hair-color\"], \n",
    "                                 response[\"powerstats\"][\"intelligence\"], response[\"powerstats\"][\"strength\"], \n",
    "                                 response[\"powerstats\"][\"speed\"], response[\"powerstats\"][\"power\"], \n",
    "                                 response[\"powerstats\"][\"combat\"], response[\"biography\"][\"alignment\"]])\n",
    "\n",
    "if not path.exists(\"heroes.csv\"):\n",
    "    start = time.perf_counter()\n",
    "    main()\n",
    "    end = time.perf_counter()\n",
    "    print(\"Download time: {}\".format(start - end))"
   ]
  },
  {
   "cell_type": "markdown",
   "metadata": {},
   "source": [
    "# Database exploring"
   ]
  },
  {
   "cell_type": "code",
   "execution_count": 2,
   "metadata": {},
   "outputs": [
    {
     "data": {
      "text/html": [
       "<div>\n",
       "<style scoped>\n",
       "    .dataframe tbody tr th:only-of-type {\n",
       "        vertical-align: middle;\n",
       "    }\n",
       "\n",
       "    .dataframe tbody tr th {\n",
       "        vertical-align: top;\n",
       "    }\n",
       "\n",
       "    .dataframe thead th {\n",
       "        text-align: right;\n",
       "    }\n",
       "</style>\n",
       "<table border=\"1\" class=\"dataframe\">\n",
       "  <thead>\n",
       "    <tr style=\"text-align: right;\">\n",
       "      <th></th>\n",
       "      <th>intelligence</th>\n",
       "      <th>strength</th>\n",
       "      <th>speed</th>\n",
       "      <th>power</th>\n",
       "      <th>combat</th>\n",
       "    </tr>\n",
       "  </thead>\n",
       "  <tbody>\n",
       "    <tr>\n",
       "      <th>count</th>\n",
       "      <td>566.000000</td>\n",
       "      <td>629.000000</td>\n",
       "      <td>566.000000</td>\n",
       "      <td>566.000000</td>\n",
       "      <td>566.000000</td>\n",
       "    </tr>\n",
       "    <tr>\n",
       "      <th>mean</th>\n",
       "      <td>64.445230</td>\n",
       "      <td>44.001590</td>\n",
       "      <td>40.249117</td>\n",
       "      <td>64.243816</td>\n",
       "      <td>61.597173</td>\n",
       "    </tr>\n",
       "    <tr>\n",
       "      <th>std</th>\n",
       "      <td>19.989369</td>\n",
       "      <td>32.886676</td>\n",
       "      <td>24.416224</td>\n",
       "      <td>29.797914</td>\n",
       "      <td>23.349979</td>\n",
       "    </tr>\n",
       "    <tr>\n",
       "      <th>min</th>\n",
       "      <td>6.000000</td>\n",
       "      <td>4.000000</td>\n",
       "      <td>1.000000</td>\n",
       "      <td>0.000000</td>\n",
       "      <td>5.000000</td>\n",
       "    </tr>\n",
       "    <tr>\n",
       "      <th>25%</th>\n",
       "      <td>50.000000</td>\n",
       "      <td>10.000000</td>\n",
       "      <td>23.000000</td>\n",
       "      <td>38.000000</td>\n",
       "      <td>42.000000</td>\n",
       "    </tr>\n",
       "    <tr>\n",
       "      <th>50%</th>\n",
       "      <td>63.000000</td>\n",
       "      <td>35.000000</td>\n",
       "      <td>33.000000</td>\n",
       "      <td>63.500000</td>\n",
       "      <td>64.000000</td>\n",
       "    </tr>\n",
       "    <tr>\n",
       "      <th>75%</th>\n",
       "      <td>75.000000</td>\n",
       "      <td>80.000000</td>\n",
       "      <td>50.000000</td>\n",
       "      <td>100.000000</td>\n",
       "      <td>80.000000</td>\n",
       "    </tr>\n",
       "    <tr>\n",
       "      <th>max</th>\n",
       "      <td>100.000000</td>\n",
       "      <td>100.000000</td>\n",
       "      <td>100.000000</td>\n",
       "      <td>100.000000</td>\n",
       "      <td>101.000000</td>\n",
       "    </tr>\n",
       "  </tbody>\n",
       "</table>\n",
       "</div>"
      ],
      "text/plain": [
       "       intelligence    strength       speed       power      combat\n",
       "count    566.000000  629.000000  566.000000  566.000000  566.000000\n",
       "mean      64.445230   44.001590   40.249117   64.243816   61.597173\n",
       "std       19.989369   32.886676   24.416224   29.797914   23.349979\n",
       "min        6.000000    4.000000    1.000000    0.000000    5.000000\n",
       "25%       50.000000   10.000000   23.000000   38.000000   42.000000\n",
       "50%       63.000000   35.000000   33.000000   63.500000   64.000000\n",
       "75%       75.000000   80.000000   50.000000  100.000000   80.000000\n",
       "max      100.000000  100.000000  100.000000  100.000000  101.000000"
      ]
     },
     "execution_count": 2,
     "metadata": {},
     "output_type": "execute_result"
    }
   ],
   "source": [
    "df = pd.read_csv(\"heroes.csv\") \n",
    "df.describe() #describing numeric values"
   ]
  },
  {
   "cell_type": "code",
   "execution_count": 3,
   "metadata": {},
   "outputs": [
    {
     "data": {
      "text/plain": [
       "good       494\n",
       "bad        206\n",
       "neutral     24\n",
       "-            7\n",
       "Name: role, dtype: int64"
      ]
     },
     "execution_count": 3,
     "metadata": {},
     "output_type": "execute_result"
    }
   ],
   "source": [
    "df[\"role\"].value_counts()"
   ]
  },
  {
   "cell_type": "code",
   "execution_count": 4,
   "metadata": {},
   "outputs": [
    {
     "data": {
      "text/plain": [
       "Male      502\n",
       "Female    200\n",
       "-          29\n",
       "Name: gender, dtype: int64"
      ]
     },
     "execution_count": 4,
     "metadata": {},
     "output_type": "execute_result"
    }
   ],
   "source": [
    "df[\"gender\"].value_counts()"
   ]
  },
  {
   "cell_type": "code",
   "execution_count": 5,
   "metadata": {},
   "outputs": [
    {
     "data": {
      "text/plain": [
       "Blue                       219\n",
       "-                          171\n",
       "Brown                      123\n",
       "Green                       72\n",
       "Red                         46\n",
       "Black                       23\n",
       "Yellow                      19\n",
       "White                       17\n",
       "Hazel                        6\n",
       "blue                         6\n",
       "Grey                         6\n",
       "Purple                       4\n",
       "Gold                         3\n",
       "Violet                       2\n",
       "Yellow (without irises)      2\n",
       "brown                        2\n",
       "Amber                        2\n",
       "Green / Blue                 1\n",
       "Silver                       1\n",
       "Indigo                       1\n",
       "Bown                         1\n",
       "White / Red                  1\n",
       "Yellow / Blue                1\n",
       "Blue / White                 1\n",
       "Yellow / Red                 1\n",
       "Name: eyeColor, dtype: int64"
      ]
     },
     "execution_count": 5,
     "metadata": {},
     "output_type": "execute_result"
    }
   ],
   "source": [
    "df[\"eyeColor\"].value_counts()"
   ]
  },
  {
   "cell_type": "code",
   "execution_count": 6,
   "metadata": {},
   "outputs": [
    {
     "data": {
      "text/plain": [
       "-                   171\n",
       "Black               158\n",
       "Blond                98\n",
       "Brown                85\n",
       "No Hair              75\n",
       "Red                  51\n",
       "White                23\n",
       "Auburn               13\n",
       "Green                 8\n",
       "Strawberry Blond      7\n",
       "Grey                  5\n",
       "Purple                5\n",
       "Silver                4\n",
       "Brown / White         4\n",
       "blond                 3\n",
       "black                 3\n",
       "Blue                  3\n",
       "Orange                2\n",
       "Yellow                2\n",
       "Red / Orange          1\n",
       "Brown / Black         1\n",
       "Indigo                1\n",
       "Pink                  1\n",
       "Orange / White        1\n",
       "Gold                  1\n",
       "Brownn                1\n",
       "Red / Grey            1\n",
       "Red / White           1\n",
       "Black / Blue          1\n",
       "Magenta               1\n",
       "Name: hairType, dtype: int64"
      ]
     },
     "execution_count": 6,
     "metadata": {},
     "output_type": "execute_result"
    }
   ],
   "source": [
    "df[\"hairType\"].value_counts()"
   ]
  },
  {
   "cell_type": "markdown",
   "metadata": {},
   "source": [
    "# Database processing"
   ]
  },
  {
   "cell_type": "code",
   "execution_count": 7,
   "metadata": {},
   "outputs": [],
   "source": [
    "def formatPowerStat(ps):\n",
    "    if ps < 20:\n",
    "        return 0\n",
    "    elif ps >= 20 and ps < 40:\n",
    "        return 1\n",
    "    elif ps >= 40 and ps < 60:\n",
    "        return 2\n",
    "    elif ps >= 60 and ps < 80:\n",
    "        return 3\n",
    "    else:\n",
    "        return 4\n",
    "    \n",
    "def formatEyeColor(ec):\n",
    "    if \"blue\" in ec:\n",
    "        return 0\n",
    "    elif \"brown\" in ec:\n",
    "        return 1\n",
    "    elif \"green\" in ec:\n",
    "        return 2\n",
    "    else:\n",
    "        return 3\n",
    "\n",
    "def formatHairType(ht):\n",
    "    if \"black\" in ht:\n",
    "        return 0\n",
    "    elif \"blond\" in ht:\n",
    "        return 1\n",
    "    elif \"brown\" in ht:\n",
    "        return 2\n",
    "    else:\n",
    "        return 3"
   ]
  },
  {
   "cell_type": "code",
   "execution_count": 8,
   "metadata": {},
   "outputs": [
    {
     "name": "stdout",
     "output_type": "stream",
     "text": [
      "1    494\n",
      "0    494\n",
      "Name: role, dtype: int64\n"
     ]
    }
   ],
   "source": [
    "df = df.fillna(df.mean()) #setting mean in NaN values\n",
    "df = df.applymap(lambda s : s.lower() if type(s) == str else s) #converting strings to lowercase\n",
    "df = df.applymap(lambda ps : formatPowerStat(ps) if type(ps) != str else ps) #converting power stats in categories\n",
    "\n",
    "df[\"eyeColor\"] = df[\"eyeColor\"].map(lambda ec : formatEyeColor(ec)) #categorizing eye color\n",
    "df[\"hairType\"] = df[\"hairType\"].map(lambda ht : formatHairType(ht)) #categorizing hair type\n",
    "\n",
    "le         = LabelEncoder()\n",
    "df[\"role\"] = df[\"role\"].replace(\"-\", \"bad\") \n",
    "df[\"role\"] = df[\"role\"].replace(\"neutral\", \"bad\") \n",
    "df[\"role\"] = le.fit_transform(df[\"role\"]) #categorizing role\n",
    "df         = df.drop(\"gender\", axis = 1)\n",
    "\n",
    "#counting heroes and villains\n",
    "countHero, countVillain = df[\"role\"].value_counts()\n",
    "\n",
    "dfHero    = df[df[\"role\"] == 1] #hero dataframe\n",
    "dfVillain = df[df[\"role\"] == 0] #villain dataframe\n",
    "\n",
    "newDfVillain = dfVillain.sample(countHero, replace = True, random_state = 1) #undersampling hero dataframe\n",
    "balancedDf = pd.concat([newDfVillain, dfHero], axis = 0) #new balanced dataframe\n",
    "print(balancedDf[\"role\"].value_counts())"
   ]
  },
  {
   "cell_type": "markdown",
   "metadata": {},
   "source": [
    "# Final database"
   ]
  },
  {
   "cell_type": "code",
   "execution_count": 9,
   "metadata": {},
   "outputs": [
    {
     "data": {
      "text/html": [
       "<div>\n",
       "<style scoped>\n",
       "    .dataframe tbody tr th:only-of-type {\n",
       "        vertical-align: middle;\n",
       "    }\n",
       "\n",
       "    .dataframe tbody tr th {\n",
       "        vertical-align: top;\n",
       "    }\n",
       "\n",
       "    .dataframe thead th {\n",
       "        text-align: right;\n",
       "    }\n",
       "</style>\n",
       "<table border=\"1\" class=\"dataframe\">\n",
       "  <thead>\n",
       "    <tr style=\"text-align: right;\">\n",
       "      <th></th>\n",
       "      <th>eyeColor</th>\n",
       "      <th>hairType</th>\n",
       "      <th>intelligence</th>\n",
       "      <th>strength</th>\n",
       "      <th>speed</th>\n",
       "      <th>power</th>\n",
       "      <th>combat</th>\n",
       "      <th>role</th>\n",
       "    </tr>\n",
       "  </thead>\n",
       "  <tbody>\n",
       "    <tr>\n",
       "      <th>count</th>\n",
       "      <td>988.000000</td>\n",
       "      <td>988.000000</td>\n",
       "      <td>988.000000</td>\n",
       "      <td>988.000000</td>\n",
       "      <td>988.000000</td>\n",
       "      <td>988.000000</td>\n",
       "      <td>988.000000</td>\n",
       "      <td>988.000000</td>\n",
       "    </tr>\n",
       "    <tr>\n",
       "      <th>mean</th>\n",
       "      <td>1.706478</td>\n",
       "      <td>1.929150</td>\n",
       "      <td>2.788462</td>\n",
       "      <td>1.828947</td>\n",
       "      <td>1.622470</td>\n",
       "      <td>2.733806</td>\n",
       "      <td>2.729757</td>\n",
       "      <td>0.500000</td>\n",
       "    </tr>\n",
       "    <tr>\n",
       "      <th>std</th>\n",
       "      <td>1.302666</td>\n",
       "      <td>1.245474</td>\n",
       "      <td>0.939286</td>\n",
       "      <td>1.549616</td>\n",
       "      <td>1.079505</td>\n",
       "      <td>1.204093</td>\n",
       "      <td>1.042581</td>\n",
       "      <td>0.500253</td>\n",
       "    </tr>\n",
       "    <tr>\n",
       "      <th>min</th>\n",
       "      <td>0.000000</td>\n",
       "      <td>0.000000</td>\n",
       "      <td>0.000000</td>\n",
       "      <td>0.000000</td>\n",
       "      <td>0.000000</td>\n",
       "      <td>0.000000</td>\n",
       "      <td>0.000000</td>\n",
       "      <td>0.000000</td>\n",
       "    </tr>\n",
       "    <tr>\n",
       "      <th>25%</th>\n",
       "      <td>0.000000</td>\n",
       "      <td>1.000000</td>\n",
       "      <td>2.000000</td>\n",
       "      <td>0.000000</td>\n",
       "      <td>1.000000</td>\n",
       "      <td>2.000000</td>\n",
       "      <td>2.000000</td>\n",
       "      <td>0.000000</td>\n",
       "    </tr>\n",
       "    <tr>\n",
       "      <th>50%</th>\n",
       "      <td>2.000000</td>\n",
       "      <td>3.000000</td>\n",
       "      <td>3.000000</td>\n",
       "      <td>2.000000</td>\n",
       "      <td>2.000000</td>\n",
       "      <td>3.000000</td>\n",
       "      <td>3.000000</td>\n",
       "      <td>0.500000</td>\n",
       "    </tr>\n",
       "    <tr>\n",
       "      <th>75%</th>\n",
       "      <td>3.000000</td>\n",
       "      <td>3.000000</td>\n",
       "      <td>3.000000</td>\n",
       "      <td>3.000000</td>\n",
       "      <td>2.000000</td>\n",
       "      <td>4.000000</td>\n",
       "      <td>3.000000</td>\n",
       "      <td>1.000000</td>\n",
       "    </tr>\n",
       "    <tr>\n",
       "      <th>max</th>\n",
       "      <td>3.000000</td>\n",
       "      <td>3.000000</td>\n",
       "      <td>4.000000</td>\n",
       "      <td>4.000000</td>\n",
       "      <td>4.000000</td>\n",
       "      <td>4.000000</td>\n",
       "      <td>4.000000</td>\n",
       "      <td>1.000000</td>\n",
       "    </tr>\n",
       "  </tbody>\n",
       "</table>\n",
       "</div>"
      ],
      "text/plain": [
       "         eyeColor    hairType  intelligence    strength       speed  \\\n",
       "count  988.000000  988.000000    988.000000  988.000000  988.000000   \n",
       "mean     1.706478    1.929150      2.788462    1.828947    1.622470   \n",
       "std      1.302666    1.245474      0.939286    1.549616    1.079505   \n",
       "min      0.000000    0.000000      0.000000    0.000000    0.000000   \n",
       "25%      0.000000    1.000000      2.000000    0.000000    1.000000   \n",
       "50%      2.000000    3.000000      3.000000    2.000000    2.000000   \n",
       "75%      3.000000    3.000000      3.000000    3.000000    2.000000   \n",
       "max      3.000000    3.000000      4.000000    4.000000    4.000000   \n",
       "\n",
       "            power      combat        role  \n",
       "count  988.000000  988.000000  988.000000  \n",
       "mean     2.733806    2.729757    0.500000  \n",
       "std      1.204093    1.042581    0.500253  \n",
       "min      0.000000    0.000000    0.000000  \n",
       "25%      2.000000    2.000000    0.000000  \n",
       "50%      3.000000    3.000000    0.500000  \n",
       "75%      4.000000    3.000000    1.000000  \n",
       "max      4.000000    4.000000    1.000000  "
      ]
     },
     "execution_count": 9,
     "metadata": {},
     "output_type": "execute_result"
    }
   ],
   "source": [
    "'''\n",
    "0 - Very weak\n",
    "1 - Weak\n",
    "2 - Normal\n",
    "3 - Strong\n",
    "4 - Very strong\n",
    "'''\n",
    "\n",
    "balancedDf.describe() #describing numeric values"
   ]
  },
  {
   "cell_type": "code",
   "execution_count": 10,
   "metadata": {},
   "outputs": [
    {
     "data": {
      "text/plain": [
       "1    494\n",
       "0    494\n",
       "Name: role, dtype: int64"
      ]
     },
     "execution_count": 10,
     "metadata": {},
     "output_type": "execute_result"
    }
   ],
   "source": [
    "'''\n",
    "0 - Villain\n",
    "1 - Hero\n",
    "'''\n",
    "\n",
    "balancedDf[\"role\"].value_counts()"
   ]
  },
  {
   "cell_type": "code",
   "execution_count": 11,
   "metadata": {},
   "outputs": [
    {
     "data": {
      "text/plain": [
       "3    449\n",
       "0    286\n",
       "1    167\n",
       "2     86\n",
       "Name: eyeColor, dtype: int64"
      ]
     },
     "execution_count": 11,
     "metadata": {},
     "output_type": "execute_result"
    }
   ],
   "source": [
    "'''\n",
    "0 - Blue\n",
    "1 - Brown\n",
    "2 - Green\n",
    "3 - Other\n",
    "'''\n",
    "\n",
    "balancedDf[\"eyeColor\"].value_counts()"
   ]
  },
  {
   "cell_type": "code",
   "execution_count": 12,
   "metadata": {},
   "outputs": [
    {
     "data": {
      "text/plain": [
       "3    509\n",
       "0    224\n",
       "1    131\n",
       "2    124\n",
       "Name: hairType, dtype: int64"
      ]
     },
     "execution_count": 12,
     "metadata": {},
     "output_type": "execute_result"
    }
   ],
   "source": [
    "'''\n",
    "0 - Black\n",
    "1 - Blond\n",
    "2 - Brown\n",
    "3 - Other\n",
    "'''\n",
    "\n",
    "balancedDf[\"hairType\"].value_counts()"
   ]
  },
  {
   "cell_type": "markdown",
   "metadata": {},
   "source": [
    "# Machine learning"
   ]
  },
  {
   "cell_type": "code",
   "execution_count": 13,
   "metadata": {},
   "outputs": [],
   "source": [
    "# Defining features and classes\n",
    "X = balancedDf.iloc[:, 1:-1].values\n",
    "y = balancedDf.iloc[:, -1].values\n",
    "X_train, X_test, y_train, y_test = train_test_split(X, y, test_size = 0.2, random_state = 1)"
   ]
  },
  {
   "cell_type": "code",
   "execution_count": 14,
   "metadata": {},
   "outputs": [
    {
     "name": "stdout",
     "output_type": "stream",
     "text": [
      "[0.67171717 0.65656566 0.65151515 0.66161616 0.61734694]\n",
      "Cross validation mean: 0.6517522160379303\n",
      "Confusion matrix:\n",
      " [[66 31]\n",
      " [44 57]]\n"
     ]
    }
   ],
   "source": [
    "# KNN classifier\n",
    "from sklearn.neighbors import KNeighborsClassifier\n",
    "classifier = KNeighborsClassifier(n_neighbors = 5)\n",
    "scores     = cross_val_score(classifier, X, y, cv = 5)\n",
    "\n",
    "print(scores)\n",
    "print(\"Cross validation mean: {}\".format(np.mean(scores)))\n",
    "\n",
    "classifier.fit(X_train, y_train)\n",
    "conf_mat = confusion_matrix(y_true = y_test, y_pred = classifier.predict(X_test))\n",
    "print('Confusion matrix:\\n', conf_mat)"
   ]
  },
  {
   "cell_type": "code",
   "execution_count": 15,
   "metadata": {},
   "outputs": [
    {
     "name": "stdout",
     "output_type": "stream",
     "text": [
      "[0.75757576 0.73232323 0.75252525 0.73737374 0.77040816]\n",
      "Cross validation mean: 0.7500412286126572\n",
      "Confusion matrix:\n",
      " [[76 21]\n",
      " [32 69]]\n"
     ]
    }
   ],
   "source": [
    "# Decision tree classifier\n",
    "from sklearn.tree import DecisionTreeClassifier\n",
    "classifier = DecisionTreeClassifier(criterion = 'entropy', random_state = 0)\n",
    "scores     = cross_val_score(classifier, X, y, cv = 5)\n",
    "\n",
    "print(scores)\n",
    "print(\"Cross validation mean: {}\".format(np.mean(scores)))\n",
    "\n",
    "classifier.fit(X_train, y_train)\n",
    "conf_mat = confusion_matrix(y_true = y_test, y_pred = classifier.predict(X_test))\n",
    "print('Confusion matrix:\\n', conf_mat)"
   ]
  },
  {
   "cell_type": "code",
   "execution_count": 16,
   "metadata": {},
   "outputs": [
    {
     "name": "stdout",
     "output_type": "stream",
     "text": [
      "[0.74242424 0.76262626 0.74242424 0.76767677 0.74489796]\n",
      "Cross validation mean: 0.7520098948670377\n",
      "Confusion matrix:\n",
      " [[75 22]\n",
      " [34 67]]\n"
     ]
    }
   ],
   "source": [
    "# Random forest classifier\n",
    "from sklearn.ensemble import RandomForestClassifier\n",
    "classifier = RandomForestClassifier(n_estimators = 10, criterion = 'entropy', random_state = 0)\n",
    "scores     = cross_val_score(classifier, X, y, cv = 5)\n",
    "\n",
    "print(scores)\n",
    "print(\"Cross validation mean: {}\".format(np.mean(scores)))\n",
    "\n",
    "classifier.fit(X_train, y_train)\n",
    "conf_mat = confusion_matrix(y_true = y_test, y_pred = classifier.predict(X_test))\n",
    "print('Confusion matrix:\\n', conf_mat)"
   ]
  },
  {
   "cell_type": "code",
   "execution_count": 17,
   "metadata": {},
   "outputs": [
    {
     "name": "stdout",
     "output_type": "stream",
     "text": [
      "[0.61111111 0.56565657 0.55050505 0.62121212 0.48979592]\n",
      "Cross validation mean: 0.5676561533704392\n",
      "Confusion matrix:\n",
      " [[54 43]\n",
      " [43 58]]\n"
     ]
    }
   ],
   "source": [
    "# Logistic Regression classifier\n",
    "from sklearn.linear_model import LogisticRegression\n",
    "\n",
    "classifier = LogisticRegression(random_state = 0, solver = \"lbfgs\", multi_class = \"auto\")\n",
    "scores     = cross_val_score(classifier, X, y, cv = 5)\n",
    "\n",
    "print(scores)\n",
    "print(\"Cross validation mean: {}\".format(np.mean(scores)))\n",
    "\n",
    "classifier.fit(X_train, y_train)\n",
    "conf_mat = confusion_matrix(y_true = y_test, y_pred = classifier.predict(X_test))\n",
    "print('Confusion matrix:\\n', conf_mat)"
   ]
  },
  {
   "cell_type": "code",
   "execution_count": 18,
   "metadata": {},
   "outputs": [
    {
     "name": "stdout",
     "output_type": "stream",
     "text": [
      "[0.63636364 0.63636364 0.54545455 0.57575758 0.56122449]\n",
      "Cross validation mean: 0.5910327767470624\n",
      "Confusion matrix:\n",
      " [[58 39]\n",
      " [44 57]]\n"
     ]
    }
   ],
   "source": [
    "# Naive Bayes classifier\n",
    "from sklearn.naive_bayes import GaussianNB\n",
    "classifier = GaussianNB()\n",
    "scores     = cross_val_score(classifier, X, y, cv = 5)\n",
    "\n",
    "print(scores)\n",
    "print(\"Cross validation mean: {}\".format(np.mean(scores)))\n",
    "\n",
    "classifier.fit(X_train, y_train)\n",
    "conf_mat = confusion_matrix(y_true = y_test, y_pred = classifier.predict(X_test))\n",
    "print('Confusion matrix:\\n', conf_mat)"
   ]
  },
  {
   "cell_type": "code",
   "execution_count": 19,
   "metadata": {},
   "outputs": [
    {
     "name": "stdout",
     "output_type": "stream",
     "text": [
      "[0.56060606 0.5959596  0.52525253 0.57575758 0.5255102 ]\n",
      "Cross validation mean: 0.5566171923314781\n",
      "Confusion matrix:\n",
      " [[54 43]\n",
      " [43 58]]\n"
     ]
    }
   ],
   "source": [
    "# SVC classifier\n",
    "from sklearn.svm import SVC\n",
    "classifier = SVC(kernel = 'linear', random_state = 0)\n",
    "scores     = cross_val_score(classifier, X, y, cv = 5)\n",
    "\n",
    "print(scores)\n",
    "print(\"Cross validation mean: {}\".format(np.mean(scores)))\n",
    "\n",
    "classifier.fit(X_train, y_train)\n",
    "conf_mat = confusion_matrix(y_true = y_test, y_pred = classifier.predict(X_test))\n",
    "print('Confusion matrix:\\n', conf_mat)"
   ]
  }
 ],
 "metadata": {
  "kernelspec": {
   "display_name": "Python 3",
   "language": "python",
   "name": "python3"
  },
  "language_info": {
   "codemirror_mode": {
    "name": "ipython",
    "version": 3
   },
   "file_extension": ".py",
   "mimetype": "text/x-python",
   "name": "python",
   "nbconvert_exporter": "python",
   "pygments_lexer": "ipython3",
   "version": "3.7.3"
  }
 },
 "nbformat": 4,
 "nbformat_minor": 2
}
